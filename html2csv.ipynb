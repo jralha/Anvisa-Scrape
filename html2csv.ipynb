{
 "cells": [
  {
   "cell_type": "code",
   "execution_count": 124,
   "metadata": {},
   "outputs": [],
   "source": [
    "from bs4 import BeautifulSoup"
   ]
  },
  {
   "cell_type": "code",
   "execution_count": 125,
   "metadata": {},
   "outputs": [],
   "source": [
    "data_folder = 'C:\\Anaconda\\Jupyter\\Scrape\\data\\store\\dump'"
   ]
  },
  {
   "cell_type": "code",
   "execution_count": 126,
   "metadata": {},
   "outputs": [],
   "source": [
    "processes=[]\n",
    "for r, d, f in os.walk(data_folder): #para cada .xls baixado\n",
    "    for file in f:\n",
    "        if \".html\" in file:\n",
    "            processes.append(os.path.join(r, file))"
   ]
  },
  {
   "cell_type": "code",
   "execution_count": 185,
   "metadata": {},
   "outputs": [
    {
     "name": "stdout",
     "output_type": "stream",
     "text": [
      "ACETONIDA DE TRIANCINOLONA + SULFATO DE NEOMICINA + GRAMICIDINA + NISTATINA | LEGRAND PHARMA INDÚSTRIA FARMACÊUTICA LTDA | 05.044.984/0001-26\n"
     ]
    }
   ],
   "source": [
    "f=open(processes[2], 'r')\n",
    "document= BeautifulSoup(f.read()).get_text().split(\"\\n\")\n",
    "produto = document[2][20:]\n",
    "empresa=document[7]\n",
    "cnpj=document[9]\n",
    "autorizacao=document[12]\n",
    "processo=document[16]\n",
    "print(produto,\"|\", empresa,\"|\", cnpj)"
   ]
  },
  {
   "cell_type": "code",
   "execution_count": null,
   "metadata": {},
   "outputs": [],
   "source": []
  },
  {
   "cell_type": "code",
   "execution_count": 181,
   "metadata": {},
   "outputs": [],
   "source": []
  },
  {
   "cell_type": "code",
   "execution_count": null,
   "metadata": {},
   "outputs": [],
   "source": []
  },
  {
   "cell_type": "code",
   "execution_count": null,
   "metadata": {},
   "outputs": [],
   "source": []
  }
 ],
 "metadata": {
  "kernelspec": {
   "display_name": "Python 3",
   "language": "python",
   "name": "python3"
  },
  "language_info": {
   "codemirror_mode": {
    "name": "ipython",
    "version": 3
   },
   "file_extension": ".py",
   "mimetype": "text/x-python",
   "name": "python",
   "nbconvert_exporter": "python",
   "pygments_lexer": "ipython3",
   "version": "3.7.3"
  }
 },
 "nbformat": 4,
 "nbformat_minor": 2
}
