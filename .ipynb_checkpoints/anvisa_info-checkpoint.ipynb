{
 "cells": [
  {
   "cell_type": "markdown",
   "metadata": {},
   "source": [
    "Biblotecas necessárias"
   ]
  },
  {
   "cell_type": "code",
   "execution_count": 92,
   "metadata": {},
   "outputs": [],
   "source": [
    "#Bibliotecas usadas.\n",
    "from selenium import webdriver #Selenium simula uma instância do navegador.\n",
    "from selenium.webdriver.chrome.options import Options\n",
    "from selenium.webdriver.common.keys import Keys\n",
    "import time #Para pausas\n",
    "import os #Operações do sistema operacional.\n",
    "import sys #PAssar operações fora do python no cmd do sistema.\n",
    "from distutils.dir_util import copy_tree\n",
    "import shutil\n",
    "import pandas as pd #Organização dos dados."
   ]
  },
  {
   "cell_type": "markdown",
   "metadata": {},
   "source": [
    "Tipos de prescrição desejadas (dividir em outros fatores gera arquivos do excle muito grande eo site não responde).\n",
    "\n",
    "Definir pasta de download de dados na variável data_folder"
   ]
  },
  {
   "cell_type": "code",
   "execution_count": 7,
   "metadata": {},
   "outputs": [],
   "source": [
    "# Array com os ids de utilização da anvisa, se tentamos puxar todos os dados de uma vez o site dá timeout.\n",
    "\n",
    "data_folder='C:\\Anaconda\\Jupyter\\Scrape\\data' #Pasta para salvar os dados extraidos.\n",
    "new_files = data_folder+\"\\\\new\\\\\"\n",
    "storage = data_folder+\"\\\\store\\\\\""
   ]
  },
  {
   "cell_type": "markdown",
   "metadata": {},
   "source": [
    "For loop baixando os arquivos xls de index de processo para uma pasta ./new dentro da pasta de dados definida em data_folder"
   ]
  },
  {
   "cell_type": "code",
   "execution_count": 5,
   "metadata": {},
   "outputs": [
    {
     "name": "stdout",
     "output_type": "stream",
     "text": [
      "Downloading initial file 18 of 18 to C:\\Anaconda\\Jupyter\\Scrape\\data\\new\\27414"
     ]
    }
   ],
   "source": [
    "#Loop baixando o arquivo Excel para cada id de utilização.\n",
    "array=[529,530,531,532,533,534,535,536,537,538,539,540,541,542,543,544,545,27414]\n",
    "n=1 #utilizado na mensagem de progresso\n",
    "for i in array:\n",
    "    #url com a lista de processos\n",
    "    url = 'https://consultas.anvisa.gov.br/#/medicamentos/q/?prescricoes='+str(i)\n",
    "    #pasta dos arquivos .xls\n",
    "    download_folder = data_folder+\"\\\\new\\\\\"+str(i)\n",
    "    store_folder = data_folder+\"\\\\store\\\\\"+str(i)\n",
    "    if not os.path.exists(data_folder): os.mkdir(data_folder) #cria pasta se ela não existe\n",
    "    \n",
    "    #opções do selenium\n",
    "    d_options = webdriver.ChromeOptions()\n",
    "    d_options.add_argument('--ignore-certificate-errors') #bypass certificados de segurança\n",
    "    d_options.add_argument(\"--test-type\")\n",
    "    d_options.add_experimental_option(\"prefs\", {\"download.default_directory\": download_folder,\"download.prompt_for_download\": False}) #pular confirmação de downloads\n",
    "    d_options.add_argument(\"headless\") #rodar o browser no background\n",
    "    driver = webdriver.Chrome(options=d_options) #carregando o browser\n",
    "    driver.command_executor._commands[\"send_command\"] = (\"POST\", '/session/$sessionId/chromium/send_command')\n",
    "    #comandos possibilitando baixar arquivo em background\n",
    "    params = {'cmd': 'Page.setDownloadBehavior', 'params': {'behavior': 'allow', 'downloadPath': download_folder}}\n",
    "    command_result = driver.execute(\"send_command\", params)\n",
    "    #broswer vai até a url\n",
    "    driver.get(url)\n",
    "    #mensagem de progresso\n",
    "    sys.stdout.write('\\r'+\"Downloading initial file \"+str(n)+\" of \"+str(len(array))+\" to \"+download_folder)\n",
    "    sys.stdout.flush()\n",
    "    time.sleep(10) #tempo para carregar a página, 10 é provavelmente exagero, uns 3 deve ser suficiente.\n",
    "    #encontra o botão de download via xpath\n",
    "    button = driver.find_element_by_xpath('/html/body/div[3]/div[1]/form/div/div[4]/a[1]')\n",
    "    button.click() #clica no botao\n",
    "    time.sleep(10) #espera o .xls baixar para continuar no próximo item do loop0\n",
    "    n=n+1"
   ]
  },
  {
   "cell_type": "markdown",
   "metadata": {},
   "source": [
    "Lista de processos presentes no index do arquivo xls.\n",
    "\n",
    "Detecção de novos processos."
   ]
  },
  {
   "cell_type": "code",
   "execution_count": 69,
   "metadata": {},
   "outputs": [],
   "source": [
    "stored = [] #variável vazia para a tabela de dados\n",
    "for r, d, f in os.walk(storage): #para cada .xls baixado\n",
    "    for file in f:\n",
    "        if \".xls\" in file:\n",
    "            stored0 = pd.read_excel(os.path.join(r, file)) #juntar os arquivos .xls num arquivo\n",
    "            stored.append(data0) \n",
    "            \n",
    "new = [] #variável vazia para a tabela de dados\n",
    "for rn, dn, fn in os.walk(new_files): #para cada .xls baixado\n",
    "    for file in f:\n",
    "        if \".xls\" in file:\n",
    "            new0 = pd.read_excel(os.path.join(r, file)) #juntar os arquivos .xls num arquivo\n",
    "            new.append(new0)\n",
    "             \n",
    "            \n",
    "stored = pd.concat(stored,axis=0)\n",
    "new = pd.concat(new,axis=0)"
   ]
  },
  {
   "cell_type": "markdown",
   "metadata": {},
   "source": [
    "Novos processos"
   ]
  },
  {
   "cell_type": "code",
   "execution_count": 71,
   "metadata": {},
   "outputs": [],
   "source": [
    "stored_p=[]\n",
    "for i in stored['Processo'].values:\n",
    "    stored_p.append(i.replace(\".\",\"\").replace(\"/\",\"\").replace(\"-\",\"\"))\n",
    "    \n",
    "new_p=[]\n",
    "for i in new['Processo'].values:\n",
    "    value = i.replace(\".\",\"\").replace(\"/\",\"\").replace(\"-\",\"\")\n",
    "    if value not in stored_p:\n",
    "        new_p.append(value)"
   ]
  },
  {
   "cell_type": "code",
   "execution_count": 75,
   "metadata": {},
   "outputs": [],
   "source": [
    "#Obter bulas e informações para cada processo.\n",
    "n=1\n",
    "dump_folder=data_folder+'\\\\new\\\\dump\\\\' #pasta do dump de dados, aqui com base na pasta dos xls, mas pode ser qualquer pasta\n",
    "if not os.path.exists(dump_folder): os.mkdir(dump_folder) #cria pasta se ela não existe\n",
    "    \n",
    "#for i in process: #Número nem grande, quanto estiver testando utilizar um valor menor, comenta essa linha e descomenta a próxima.\n",
    "for i in new_p[:3]: #Considera só os 3 primeiros processos.\n",
    "    url2=\"https://consultas.anvisa.gov.br/#/medicamentos/\"+str(i)+\"/?numeroProcesso=\"+str(i) #url do processo \n",
    "    download_folder = dump_folder+str(i)\n",
    "    if not os.path.exists(download_folder): os.mkdir(download_folder) #cria pastas para cada processo se elas não existem\n",
    "        \n",
    "    #mensagem de progresso    \n",
    "    #sys.stdout.write('\\r'+\"Downloading files for process \"+n+\" out of \"+str(len(process)))\n",
    "    #sys.stdout.write('\\r'+\"URL: \"+url2)\n",
    "    #sys.stdout.write('\\r'+\"Save to: \"+download_folder)\n",
    "    #sys.stdout.flush()\n",
    "    \n",
    "    #opções do browser, checar comentários do outro loop\n",
    "    d_options = webdriver.ChromeOptions()\n",
    "    d_options.add_argument('--ignore-certificate-errors')\n",
    "    d_options.add_argument(\"--test-type\")\n",
    "    d_options.add_experimental_option(\"prefs\", {\"download.default_directory\": download_folder,\"download.prompt_for_download\": False})\n",
    "    d_options.add_argument(\"headless\")\n",
    "    driver = webdriver.Chrome(options=d_options)\n",
    "    driver.command_executor._commands[\"send_command\"] = (\"POST\", '/session/$sessionId/chromium/send_command')\n",
    "    params = {'cmd': 'Page.setDownloadBehavior', 'params': {'behavior': 'allow', 'downloadPath': download_folder}}\n",
    "    command_result = driver.execute(\"send_command\", params)\n",
    "    driver.get(url2)\n",
    "    time.sleep(3) #tempo para a pagina carregar\n",
    "    \n",
    "    #download do pdf das bulas\n",
    "    button = driver.find_element_by_xpath('/html/body/div[3]/div[1]/form/div[1]/div[2]/table/tbody/tr[6]/td[2]/a')\n",
    "    button.click()\n",
    "    time.sleep(1)\n",
    "    button = driver.find_element_by_xpath('/html/body/div[3]/div[1]/form/div[1]/div[2]/table/tbody/tr[6]/td[3]/a')\n",
    "    button.click()\n",
    "    time.sleep(1)    \n",
    "    \n",
    "    #botão para expandir as tabelas, não sei se é necessário.\n",
    "    button = driver.find_element_by_xpath('/html/body/div[3]/div[1]/form/div[2]/a')\n",
    "    button.click() #clica no botão\n",
    "    time.sleep(1)\n",
    "    \n",
    "    #carrega código html da pagina em uma variável\n",
    "    ele = driver.find_element_by_xpath('/html/body/div[3]/div[1]').get_attribute('innerHTML')\n",
    "    \n",
    "    #salva variável num arquivo html\n",
    "    with open(download_folder+'\\main.html','w') as f:\n",
    "        print(ele, file=f)  "
   ]
  },
  {
   "cell_type": "markdown",
   "metadata": {},
   "source": [
    "Move downloaded files to storage folder"
   ]
  },
  {
   "cell_type": "code",
   "execution_count": 91,
   "metadata": {},
   "outputs": [
    {
     "data": {
      "text/plain": [
       "['C:\\\\Anaconda\\\\Jupyter\\\\Scrape\\\\data\\\\store\\\\dump\\\\250000014699710\\\\bula_1555946919194.pdf',\n",
       " 'C:\\\\Anaconda\\\\Jupyter\\\\Scrape\\\\data\\\\store\\\\dump\\\\250000014699710\\\\bula_1555946922150.pdf',\n",
       " 'C:\\\\Anaconda\\\\Jupyter\\\\Scrape\\\\data\\\\store\\\\dump\\\\250000014699710\\\\main.html',\n",
       " 'C:\\\\Anaconda\\\\Jupyter\\\\Scrape\\\\data\\\\store\\\\dump\\\\25351120208200770\\\\bula_1555946888152.pdf',\n",
       " 'C:\\\\Anaconda\\\\Jupyter\\\\Scrape\\\\data\\\\store\\\\dump\\\\25351120208200770\\\\bula_1555946889501.pdf',\n",
       " 'C:\\\\Anaconda\\\\Jupyter\\\\Scrape\\\\data\\\\store\\\\dump\\\\25351120208200770\\\\main.html',\n",
       " 'C:\\\\Anaconda\\\\Jupyter\\\\Scrape\\\\data\\\\store\\\\dump\\\\25351303204201430\\\\bula_1555946900884.pdf',\n",
       " 'C:\\\\Anaconda\\\\Jupyter\\\\Scrape\\\\data\\\\store\\\\dump\\\\25351303204201430\\\\bula_1555946902178.pdf',\n",
       " 'C:\\\\Anaconda\\\\Jupyter\\\\Scrape\\\\data\\\\store\\\\dump\\\\25351303204201430\\\\main.html']"
      ]
     },
     "execution_count": 91,
     "metadata": {},
     "output_type": "execute_result"
    }
   ],
   "source": [
    "dump_store_folder=data_folder+'\\\\store\\\\dump\\\\' #pasta do dump de dados, aqui com base na pasta dos xls, mas pode ser qualquer pasta\n",
    "if not os.path.exists(dump_store_folder): os.mkdir(dump_store_folder) #cria pasta se ela não existe\n",
    "copy_tree(dump_folder,dump_store_folder,verbose=0)"
   ]
  },
  {
   "cell_type": "markdown",
   "metadata": {},
   "source": [
    "Delete Download Folder"
   ]
  },
  {
   "cell_type": "code",
   "execution_count": 93,
   "metadata": {},
   "outputs": [],
   "source": [
    "shutil.rmtree(dump_folder)"
   ]
  },
  {
   "cell_type": "code",
   "execution_count": null,
   "metadata": {},
   "outputs": [],
   "source": []
  }
 ],
 "metadata": {
  "kernelspec": {
   "display_name": "Python 3",
   "language": "python",
   "name": "python3"
  },
  "language_info": {
   "codemirror_mode": {
    "name": "ipython",
    "version": 3
   },
   "file_extension": ".py",
   "mimetype": "text/x-python",
   "name": "python",
   "nbconvert_exporter": "python",
   "pygments_lexer": "ipython3",
   "version": "3.7.3"
  }
 },
 "nbformat": 4,
 "nbformat_minor": 2
}
